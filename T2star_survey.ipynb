{
 "cells": [
  {
   "cell_type": "markdown",
   "metadata": {},
   "source": [
    "### import data"
   ]
  },
  {
   "cell_type": "code",
   "execution_count": 825,
   "metadata": {
    "collapsed": false,
    "scrolled": false
   },
   "outputs": [
    {
     "data": {
      "text/html": [
       "<div>\n",
       "<table border=\"1\" class=\"dataframe\">\n",
       "  <thead>\n",
       "    <tr style=\"text-align: right;\">\n",
       "      <th></th>\n",
       "      <th>Defect</th>\n",
       "      <th>Host</th>\n",
       "      <th>Concentration (cm^-3)</th>\n",
       "      <th>Interrogated Spins</th>\n",
       "      <th>Bath Concentration (cm^-3)</th>\n",
       "      <th>T2* (us)</th>\n",
       "      <th>T2 (us)</th>\n",
       "      <th>FOM1 (us)</th>\n",
       "      <th>FOM2 (us)</th>\n",
       "      <th>Bath</th>\n",
       "      <th>Reference</th>\n",
       "      <th>Cryogenic</th>\n",
       "      <th>Measurement</th>\n",
       "      <th>Comment</th>\n",
       "      <th>Where to Find</th>\n",
       "    </tr>\n",
       "  </thead>\n",
       "  <tbody>\n",
       "    <tr>\n",
       "      <th>0</th>\n",
       "      <td>NV-</td>\n",
       "      <td>Diamond</td>\n",
       "      <td>2.5E+12</td>\n",
       "      <td>2.5E+04</td>\n",
       "      <td>8.800000e+15</td>\n",
       "      <td>68</td>\n",
       "      <td>NaN</td>\n",
       "      <td>1.70E+14</td>\n",
       "      <td>1.70E+06</td>\n",
       "      <td>0.05 ppm N, 0.01% 13C</td>\n",
       "      <td>Bauch 2017</td>\n",
       "      <td>no</td>\n",
       "      <td>optical</td>\n",
       "      <td>Thor, double quantum</td>\n",
       "      <td>table supplement</td>\n",
       "    </tr>\n",
       "    <tr>\n",
       "      <th>1</th>\n",
       "      <td>NV-</td>\n",
       "      <td>Diamond</td>\n",
       "      <td>1E+15</td>\n",
       "      <td>1.0E+07</td>\n",
       "      <td>1.300000e+17</td>\n",
       "      <td>58</td>\n",
       "      <td>NaN</td>\n",
       "      <td>5.80E+16</td>\n",
       "      <td>5.80E+08</td>\n",
       "      <td>0.75 ppm N, 0.01% 13C</td>\n",
       "      <td>Bauch 2017</td>\n",
       "      <td>no</td>\n",
       "      <td>optical</td>\n",
       "      <td>Leo, double quantum + spin bath driving</td>\n",
       "      <td>table supplement</td>\n",
       "    </tr>\n",
       "    <tr>\n",
       "      <th>2</th>\n",
       "      <td>NV-</td>\n",
       "      <td>Diamond</td>\n",
       "      <td>1E+16</td>\n",
       "      <td>1.0E+07</td>\n",
       "      <td>1.800000e+18</td>\n",
       "      <td>5</td>\n",
       "      <td>NaN</td>\n",
       "      <td>5.00E+16</td>\n",
       "      <td>5.00E+07</td>\n",
       "      <td>10 ppm N, 0.05% 13C</td>\n",
       "      <td>Bauch 2017</td>\n",
       "      <td>no</td>\n",
       "      <td>optical</td>\n",
       "      <td>Jamie, double quantum + spin bath driving</td>\n",
       "      <td>table supplement</td>\n",
       "    </tr>\n",
       "    <tr>\n",
       "      <th>3</th>\n",
       "      <td>NV-</td>\n",
       "      <td>Diamond</td>\n",
       "      <td>2.992E+17</td>\n",
       "      <td>n/a</td>\n",
       "      <td>4.800000e+18</td>\n",
       "      <td>0.5</td>\n",
       "      <td>NaN</td>\n",
       "      <td>1.50E+17</td>\n",
       "      <td>n/a</td>\n",
       "      <td>1.7 ppm NV, 27 ppm N, 0.01% 13C</td>\n",
       "      <td>Barry2016</td>\n",
       "      <td>no</td>\n",
       "      <td>optical</td>\n",
       "      <td>NaN</td>\n",
       "      <td>NaN</td>\n",
       "    </tr>\n",
       "    <tr>\n",
       "      <th>4</th>\n",
       "      <td>NV-</td>\n",
       "      <td>Diamond</td>\n",
       "      <td>7.0E+16</td>\n",
       "      <td>1.0E+10</td>\n",
       "      <td>1.100000e+17</td>\n",
       "      <td>2.4</td>\n",
       "      <td>NaN</td>\n",
       "      <td>1.72E+17</td>\n",
       "      <td>2.45E+10</td>\n",
       "      <td>0.4 ppm NV, 0.6 ppm N, 0.03% 13C</td>\n",
       "      <td>Grezes2015</td>\n",
       "      <td>no</td>\n",
       "      <td>optical</td>\n",
       "      <td>NaN</td>\n",
       "      <td>4th paragraph, page 3 last paragraph</td>\n",
       "    </tr>\n",
       "    <tr>\n",
       "      <th>5</th>\n",
       "      <td>NV-</td>\n",
       "      <td>Diamond</td>\n",
       "      <td>5.00E+10</td>\n",
       "      <td>1.0E+00</td>\n",
       "      <td>7.000000e+15</td>\n",
       "      <td>18.5</td>\n",
       "      <td>NaN</td>\n",
       "      <td>9.25E+11</td>\n",
       "      <td>1.85E+01</td>\n",
       "      <td>0.01% 13C</td>\n",
       "      <td>Ishikawa2012</td>\n",
       "      <td>no</td>\n",
       "      <td>optical</td>\n",
       "      <td>NaN</td>\n",
       "      <td>2nd page 1st pargraph, fig. 3d, suppl.</td>\n",
       "    </tr>\n",
       "    <tr>\n",
       "      <th>6</th>\n",
       "      <td>NV-</td>\n",
       "      <td>Diamond</td>\n",
       "      <td>n/a</td>\n",
       "      <td>1.0E+11</td>\n",
       "      <td>NaN</td>\n",
       "      <td>0.2</td>\n",
       "      <td>NaN</td>\n",
       "      <td>n/a</td>\n",
       "      <td>2.00E+10</td>\n",
       "      <td>n/a</td>\n",
       "      <td>Kubo2011</td>\n",
       "      <td>no</td>\n",
       "      <td>optical</td>\n",
       "      <td>NaN</td>\n",
       "      <td>last page, bottom left</td>\n",
       "    </tr>\n",
       "    <tr>\n",
       "      <th>7</th>\n",
       "      <td>NV-</td>\n",
       "      <td>Diamond</td>\n",
       "      <td>7E+17</td>\n",
       "      <td>5.3E+11</td>\n",
       "      <td>1.800000e+19</td>\n",
       "      <td>0.15</td>\n",
       "      <td>NaN</td>\n",
       "      <td>1.05E+17</td>\n",
       "      <td>7.88E+10</td>\n",
       "      <td>&lt; 100 ppm N, 1.1 13C%</td>\n",
       "      <td>Acosta 2010</td>\n",
       "      <td>no</td>\n",
       "      <td>optical</td>\n",
       "      <td>NaN</td>\n",
       "      <td>3rd paragraph</td>\n",
       "    </tr>\n",
       "    <tr>\n",
       "      <th>8</th>\n",
       "      <td>NV-</td>\n",
       "      <td>Diamond</td>\n",
       "      <td>2.8E+18</td>\n",
       "      <td>2.2E+08</td>\n",
       "      <td>1.800000e+19</td>\n",
       "      <td>0.1</td>\n",
       "      <td>NaN</td>\n",
       "      <td>2.80E+17</td>\n",
       "      <td>2.18E+07</td>\n",
       "      <td>&lt; 100 ppm N, 1.1 13C%</td>\n",
       "      <td>Acosta 2009</td>\n",
       "      <td>no</td>\n",
       "      <td>optical</td>\n",
       "      <td>NaN</td>\n",
       "      <td>abstract</td>\n",
       "    </tr>\n",
       "    <tr>\n",
       "      <th>9</th>\n",
       "      <td>N</td>\n",
       "      <td>Diamond</td>\n",
       "      <td>1.3E+17</td>\n",
       "      <td>1.3E+09</td>\n",
       "      <td>NaN</td>\n",
       "      <td>15</td>\n",
       "      <td>n/a</td>\n",
       "      <td>1.98E+18</td>\n",
       "      <td>1.98E+10</td>\n",
       "      <td>NaN</td>\n",
       "      <td>Bauch 2017</td>\n",
       "      <td>no</td>\n",
       "      <td>DEER (optical)</td>\n",
       "      <td>Jamie</td>\n",
       "      <td>supplement</td>\n",
       "    </tr>\n",
       "    <tr>\n",
       "      <th>10</th>\n",
       "      <td>N</td>\n",
       "      <td>Diamond</td>\n",
       "      <td>1.8E+18</td>\n",
       "      <td>1.8E+09</td>\n",
       "      <td>NaN</td>\n",
       "      <td>1</td>\n",
       "      <td>n/a</td>\n",
       "      <td>1.76E+18</td>\n",
       "      <td>1.76E+09</td>\n",
       "      <td>NaN</td>\n",
       "      <td>Bauch 2017</td>\n",
       "      <td>no</td>\n",
       "      <td>DEER (optical)</td>\n",
       "      <td>Jamie</td>\n",
       "      <td>supplement</td>\n",
       "    </tr>\n",
       "    <tr>\n",
       "      <th>11</th>\n",
       "      <td>SiV0</td>\n",
       "      <td>Diamond</td>\n",
       "      <td>ensemble</td>\n",
       "      <td>n/a</td>\n",
       "      <td>NaN</td>\n",
       "      <td>ask Natalie</td>\n",
       "      <td>NaN</td>\n",
       "      <td>NaN</td>\n",
       "      <td>n/a</td>\n",
       "      <td>1.1% 13C</td>\n",
       "      <td>Rose 2017</td>\n",
       "      <td>yes</td>\n",
       "      <td>optical</td>\n",
       "      <td>NaN</td>\n",
       "      <td>NaN</td>\n",
       "    </tr>\n",
       "    <tr>\n",
       "      <th>12</th>\n",
       "      <td>P</td>\n",
       "      <td>Silicon</td>\n",
       "      <td>1.00E+15</td>\n",
       "      <td>1.0E+15</td>\n",
       "      <td>NaN</td>\n",
       "      <td>1.8</td>\n",
       "      <td>NaN</td>\n",
       "      <td>1.80E+15</td>\n",
       "      <td>1.80E+15</td>\n",
       "      <td>0.08% 29Si</td>\n",
       "      <td>Abe 2010</td>\n",
       "      <td>yes</td>\n",
       "      <td>EPR</td>\n",
       "      <td>NaN</td>\n",
       "      <td>Fig. 4b, note [19]</td>\n",
       "    </tr>\n",
       "    <tr>\n",
       "      <th>13</th>\n",
       "      <td>PL5</td>\n",
       "      <td>Silicon Carbide</td>\n",
       "      <td>ensemble</td>\n",
       "      <td>n/a</td>\n",
       "      <td>NaN</td>\n",
       "      <td>2</td>\n",
       "      <td>NaN</td>\n",
       "      <td>NaN</td>\n",
       "      <td>n/a</td>\n",
       "      <td>4.7% 29Si, 1.1% 13C</td>\n",
       "      <td>Zhou 2017</td>\n",
       "      <td>mixed</td>\n",
       "      <td>NaN</td>\n",
       "      <td>worked in strain basis to protect against magn...</td>\n",
       "      <td>NaN</td>\n",
       "    </tr>\n",
       "    <tr>\n",
       "      <th>14</th>\n",
       "      <td>PL6</td>\n",
       "      <td>Silicon Carbide</td>\n",
       "      <td>2.8E+18</td>\n",
       "      <td>1.0E+03</td>\n",
       "      <td>NaN</td>\n",
       "      <td>0.3</td>\n",
       "      <td>NaN</td>\n",
       "      <td>8.40E+17</td>\n",
       "      <td>3.00E+02</td>\n",
       "      <td>4.7% 29Si, 1.1% 13C (likely)</td>\n",
       "      <td>Klimov 2015</td>\n",
       "      <td>mixed</td>\n",
       "      <td>NaN</td>\n",
       "      <td>NaN</td>\n",
       "      <td>abstract, supplement S4</td>\n",
       "    </tr>\n",
       "    <tr>\n",
       "      <th>15</th>\n",
       "      <td>PL?</td>\n",
       "      <td>Silicon Carbide</td>\n",
       "      <td>ensemble</td>\n",
       "      <td>n/a</td>\n",
       "      <td>NaN</td>\n",
       "      <td>1.44</td>\n",
       "      <td>NaN</td>\n",
       "      <td>NaN</td>\n",
       "      <td>NaN</td>\n",
       "      <td>4.7% 29Si, 1.1% 13C (likely)</td>\n",
       "      <td>Koehl 2011</td>\n",
       "      <td>yes</td>\n",
       "      <td>NaN</td>\n",
       "      <td>NaN</td>\n",
       "      <td>Fig. 2b, 3c</td>\n",
       "    </tr>\n",
       "    <tr>\n",
       "      <th>16</th>\n",
       "      <td>Cr</td>\n",
       "      <td>Silicon Carbide</td>\n",
       "      <td>5.00E+15</td>\n",
       "      <td>n/a</td>\n",
       "      <td>NaN</td>\n",
       "      <td>0.037</td>\n",
       "      <td>NaN</td>\n",
       "      <td>1.85E+14</td>\n",
       "      <td>NaN</td>\n",
       "      <td>4.7% 29Si, 1.1% 13C (likely)</td>\n",
       "      <td>Koehl2017</td>\n",
       "      <td>yes</td>\n",
       "      <td>optical</td>\n",
       "      <td>NaN</td>\n",
       "      <td>1st paragraph page 6, Fig 4</td>\n",
       "    </tr>\n",
       "    <tr>\n",
       "      <th>17</th>\n",
       "      <td>Cr</td>\n",
       "      <td>GalliumNitride</td>\n",
       "      <td>n/a</td>\n",
       "      <td>n/a</td>\n",
       "      <td>NaN</td>\n",
       "      <td>0.001</td>\n",
       "      <td>NaN</td>\n",
       "      <td>NaN</td>\n",
       "      <td>NaN</td>\n",
       "      <td>NaN</td>\n",
       "      <td>Koehl2017</td>\n",
       "      <td>yes</td>\n",
       "      <td>optical</td>\n",
       "      <td>NaN</td>\n",
       "      <td>1st paragraph page 6, Fig 4</td>\n",
       "    </tr>\n",
       "  </tbody>\n",
       "</table>\n",
       "</div>"
      ],
      "text/plain": [
       "   Defect             Host Concentration (cm^-3) Interrogated Spins  \\\n",
       "0     NV-          Diamond               2.5E+12            2.5E+04   \n",
       "1     NV-          Diamond                 1E+15            1.0E+07   \n",
       "2     NV-          Diamond                 1E+16            1.0E+07   \n",
       "3     NV-          Diamond             2.992E+17                n/a   \n",
       "4     NV-          Diamond               7.0E+16            1.0E+10   \n",
       "5     NV-          Diamond              5.00E+10            1.0E+00   \n",
       "6     NV-          Diamond                   n/a            1.0E+11   \n",
       "7     NV-          Diamond                 7E+17            5.3E+11   \n",
       "8     NV-          Diamond               2.8E+18            2.2E+08   \n",
       "9       N          Diamond               1.3E+17            1.3E+09   \n",
       "10      N          Diamond               1.8E+18            1.8E+09   \n",
       "11   SiV0          Diamond              ensemble                n/a   \n",
       "12      P          Silicon              1.00E+15            1.0E+15   \n",
       "13    PL5  Silicon Carbide              ensemble                n/a   \n",
       "14    PL6  Silicon Carbide               2.8E+18            1.0E+03   \n",
       "15    PL?  Silicon Carbide              ensemble                n/a   \n",
       "16     Cr  Silicon Carbide              5.00E+15                n/a   \n",
       "17     Cr   GalliumNitride                   n/a                n/a   \n",
       "\n",
       "    Bath Concentration (cm^-3)     T2* (us) T2 (us) FOM1 (us) FOM2 (us)  \\\n",
       "0                 8.800000e+15           68     NaN  1.70E+14  1.70E+06   \n",
       "1                 1.300000e+17           58     NaN  5.80E+16  5.80E+08   \n",
       "2                 1.800000e+18            5     NaN  5.00E+16  5.00E+07   \n",
       "3                 4.800000e+18          0.5     NaN  1.50E+17       n/a   \n",
       "4                 1.100000e+17          2.4     NaN  1.72E+17  2.45E+10   \n",
       "5                 7.000000e+15         18.5     NaN  9.25E+11  1.85E+01   \n",
       "6                          NaN          0.2     NaN       n/a  2.00E+10   \n",
       "7                 1.800000e+19         0.15     NaN  1.05E+17  7.88E+10   \n",
       "8                 1.800000e+19          0.1     NaN  2.80E+17  2.18E+07   \n",
       "9                          NaN           15     n/a  1.98E+18  1.98E+10   \n",
       "10                         NaN            1     n/a  1.76E+18  1.76E+09   \n",
       "11                         NaN  ask Natalie     NaN       NaN       n/a   \n",
       "12                         NaN          1.8     NaN  1.80E+15  1.80E+15   \n",
       "13                         NaN            2     NaN       NaN       n/a   \n",
       "14                         NaN          0.3     NaN  8.40E+17  3.00E+02   \n",
       "15                         NaN         1.44     NaN       NaN       NaN   \n",
       "16                         NaN        0.037     NaN  1.85E+14       NaN   \n",
       "17                         NaN        0.001     NaN       NaN       NaN   \n",
       "\n",
       "                                Bath     Reference Cryogenic     Measurement  \\\n",
       "0              0.05 ppm N, 0.01% 13C    Bauch 2017        no         optical   \n",
       "1              0.75 ppm N, 0.01% 13C    Bauch 2017        no         optical   \n",
       "2                10 ppm N, 0.05% 13C    Bauch 2017        no         optical   \n",
       "3    1.7 ppm NV, 27 ppm N, 0.01% 13C     Barry2016        no         optical   \n",
       "4   0.4 ppm NV, 0.6 ppm N, 0.03% 13C    Grezes2015        no         optical   \n",
       "5                          0.01% 13C  Ishikawa2012        no         optical   \n",
       "6                                n/a      Kubo2011        no         optical   \n",
       "7              < 100 ppm N, 1.1 13C%   Acosta 2010        no         optical   \n",
       "8              < 100 ppm N, 1.1 13C%   Acosta 2009        no         optical   \n",
       "9                                NaN    Bauch 2017        no  DEER (optical)   \n",
       "10                               NaN    Bauch 2017        no  DEER (optical)   \n",
       "11                          1.1% 13C     Rose 2017       yes         optical   \n",
       "12                        0.08% 29Si      Abe 2010       yes             EPR   \n",
       "13               4.7% 29Si, 1.1% 13C     Zhou 2017     mixed             NaN   \n",
       "14      4.7% 29Si, 1.1% 13C (likely)   Klimov 2015     mixed             NaN   \n",
       "15      4.7% 29Si, 1.1% 13C (likely)    Koehl 2011       yes             NaN   \n",
       "16      4.7% 29Si, 1.1% 13C (likely)     Koehl2017       yes         optical   \n",
       "17                               NaN     Koehl2017       yes         optical   \n",
       "\n",
       "                                              Comment  \\\n",
       "0                                Thor, double quantum   \n",
       "1             Leo, double quantum + spin bath driving   \n",
       "2           Jamie, double quantum + spin bath driving   \n",
       "3                                                 NaN   \n",
       "4                                                 NaN   \n",
       "5                                                 NaN   \n",
       "6                                                 NaN   \n",
       "7                                                 NaN   \n",
       "8                                                 NaN   \n",
       "9                                               Jamie   \n",
       "10                                              Jamie   \n",
       "11                                                NaN   \n",
       "12                                                NaN   \n",
       "13  worked in strain basis to protect against magn...   \n",
       "14                                                NaN   \n",
       "15                                                NaN   \n",
       "16                                                NaN   \n",
       "17                                                NaN   \n",
       "\n",
       "                             Where to Find  \n",
       "0                         table supplement  \n",
       "1                         table supplement  \n",
       "2                         table supplement  \n",
       "3                                      NaN  \n",
       "4     4th paragraph, page 3 last paragraph  \n",
       "5   2nd page 1st pargraph, fig. 3d, suppl.  \n",
       "6                   last page, bottom left  \n",
       "7                            3rd paragraph  \n",
       "8                                 abstract  \n",
       "9                               supplement  \n",
       "10                              supplement  \n",
       "11                                     NaN  \n",
       "12                      Fig. 4b, note [19]  \n",
       "13                                     NaN  \n",
       "14                 abstract, supplement S4  \n",
       "15                             Fig. 2b, 3c  \n",
       "16             1st paragraph page 6, Fig 4  \n",
       "17             1st paragraph page 6, Fig 4  "
      ]
     },
     "execution_count": 825,
     "metadata": {},
     "output_type": "execute_result"
    }
   ],
   "source": [
    "# import needed packages\n",
    "import pandas as pd\n",
    "import urllib.request\n",
    "import numpy as np\n",
    "import matplotlib.pyplot as plt\n",
    "\n",
    "# download fonts https://www.fontsquirrel.com/fonts/open-sans\n",
    "# font = {\n",
    "#         'sans-serif' : 'Open Sans', \n",
    "#         'family' : 'sans-serif',\n",
    "#         'weight' : 'normal',\n",
    "#         'size'   : 12}\n",
    "# plt.rc('font', **font)\n",
    "\n",
    "\n",
    "# # load data from github\n",
    "# data_url = 'https://raw.githubusercontent.com/ebauch/NV_data/master/T2star_survey.csv'\n",
    "# data = urllib.request.urlopen(data_url)\n",
    "# pd.read_csv(data, encoding='latin1', header=0)\n",
    "# df\n",
    "\n",
    "# if data is saved locally as csv uncomment lines below\n",
    "file = 'T2star_survey.csv'\n",
    "df = pd.read_csv(file, encoding='latin1', header=0)\n",
    "df"
   ]
  },
  {
   "cell_type": "code",
   "execution_count": 826,
   "metadata": {
    "collapsed": false
   },
   "outputs": [],
   "source": [
    "# spin density\n",
    "x1 = pd.to_numeric(df.iloc[:,2], 'coerce').get_values()\n",
    "# number of interrogated spins\n",
    "x2 = pd.to_numeric(df.iloc[:,3], 'coerce').get_values()\n",
    "# T2* in us\n",
    "x3 = pd.to_numeric(df.iloc[:,4], 'coerce').get_values()\n",
    "# T2* in us\n",
    "y1 = pd.to_numeric(df.iloc[:,5], 'coerce').get_values()\n",
    "# FOM1 = T2* x spin density\n",
    "y2 = pd.to_numeric(df.iloc[:,7], 'coerce').get_values()\n",
    "# FOM2 = T2* x spin density\n",
    "y3 = pd.to_numeric(df.iloc[:,8], 'coerce').get_values()\n",
    "\n",
    "# reference + remove spaces\n",
    "labels = df.iloc[:,10]\n",
    "labels = [label.replace(\" \",\"\") for label in labels]"
   ]
  },
  {
   "cell_type": "markdown",
   "metadata": {},
   "source": [
    "# NV Comparison Plots\n",
    "\n",
    "### T2* versus NV density"
   ]
  },
  {
   "cell_type": "code",
   "execution_count": 827,
   "metadata": {
    "collapsed": false
   },
   "outputs": [
    {
     "name": "stderr",
     "output_type": "stream",
     "text": [
      "C:\\Users\\user\\Anaconda3\\envs\\py34\\lib\\site-packages\\ipykernel\\__main__.py:6: VisibleDeprecationWarning: boolean index did not match indexed array along dimension 0; dimension is 18 but corresponding boolean dimension is 9\n",
      "C:\\Users\\user\\Anaconda3\\envs\\py34\\lib\\site-packages\\ipykernel\\__main__.py:7: VisibleDeprecationWarning: boolean index did not match indexed array along dimension 0; dimension is 18 but corresponding boolean dimension is 9\n",
      "C:\\Users\\user\\Anaconda3\\envs\\py34\\lib\\site-packages\\ipykernel\\__main__.py:9: VisibleDeprecationWarning: boolean index did not match indexed array along dimension 0; dimension is 18 but corresponding boolean dimension is 9\n"
     ]
    },
    {
     "data": {
      "image/png": "[encoded data removed]",
      "text/plain": [
       "<matplotlib.figure.Figure at 0xebda7f0>"
      ]
     },
     "metadata": {},
     "output_type": "display_data"
    }
   ],
   "source": [
    "# pick non-nan values\n",
    "ind = (~np.isnan(y1)) * (~np.isnan(x1)) \n",
    "# select only NV center values - first ten \n",
    "ind = ind[:9]\n",
    "\n",
    "x1n = x1[ind]\n",
    "y1n = y1[ind]\n",
    "length = len(x1n)\n",
    "labelsn = np.array(labels)[ind]\n",
    "\n",
    "# plot data + labels\n",
    "plt.plot(x1n, y1n, 'b.', ms=10)\n",
    "for i in range(length):\n",
    "    plt.text(x1n[i]*1.3, y1n[i]*(0.99), labelsn[i], fontsize=8, fontweight='normal', va='center', ha='left')\n",
    "\n",
    "# plot p1-limit\n",
    "xx = np.linspace(1e11, 1e20, 200);\n",
    "plt.plot(xx, 1/(2 * np.pi * 0.014 * xx/(1.76*1e17)), 'r-', lw=1.5)\n",
    "\n",
    "# set single spin resolvability limit\n",
    "\n",
    "plt.plot([1e13,1e13], [1e-3,1e3],'k--', lw=1.5)\n",
    "\n",
    "# plot iskawa \n",
    "plt.errorbar(5e10, 18.5, yerr=[14], fmt='o', color='b', lw=1.5)\n",
    "# plt.text(5e10, 1.05, 18.5)\n",
    "# set plot labels\n",
    "\n",
    "plt.xlabel('NV Spin Density ($cm^{-3}$)')\n",
    "plt.ylabel(r'$T_2^* (\\mu$s)')\n",
    "\n",
    "plt.xscale('log')\n",
    "plt.yscale('log')\n",
    "\n",
    "plt.xlim(10**10, 10**19)\n",
    "plt.ylim([10**-2, 100])\n",
    "\n",
    "plt.savefig(\"fig1.pdf\")\n",
    "\n",
    "plt.show()\n",
    "\n",
    "### Compare T2* and FOM2 versus Interrogated Spin"
   ]
  },
  {
   "cell_type": "markdown",
   "metadata": {},
   "source": [
    "### FOM $\\equiv T_2* \\times$ NV spin density vs. NV spin density"
   ]
  },
  {
   "cell_type": "code",
   "execution_count": 828,
   "metadata": {
    "collapsed": false
   },
   "outputs": [
    {
     "name": "stderr",
     "output_type": "stream",
     "text": [
      "C:\\Users\\user\\Anaconda3\\envs\\py34\\lib\\site-packages\\ipykernel\\__main__.py:6: VisibleDeprecationWarning: boolean index did not match indexed array along dimension 0; dimension is 18 but corresponding boolean dimension is 9\n",
      "C:\\Users\\user\\Anaconda3\\envs\\py34\\lib\\site-packages\\ipykernel\\__main__.py:7: VisibleDeprecationWarning: boolean index did not match indexed array along dimension 0; dimension is 18 but corresponding boolean dimension is 9\n",
      "C:\\Users\\user\\Anaconda3\\envs\\py34\\lib\\site-packages\\ipykernel\\__main__.py:10: VisibleDeprecationWarning: boolean index did not match indexed array along dimension 0; dimension is 18 but corresponding boolean dimension is 9\n"
     ]
    },
    {
     "data": {
      "image/png": "[encoded data removed]",
      "text/plain": [
       "<matplotlib.figure.Figure at 0xc0ede10>"
      ]
     },
     "metadata": {},
     "output_type": "display_data"
    }
   ],
   "source": [
    "# pick non-nan values\n",
    "ind = (~np.isnan(y2)) * (~np.isnan(x1)) \n",
    "# select only NV center values - first ten \n",
    "ind = ind[:9]\n",
    "\n",
    "x1n = x1[ind]\n",
    "y2n = y2[ind]\n",
    "\n",
    "length = len(x1n)\n",
    "labelsn = np.array(labels)[ind]\n",
    "\n",
    "# plot data + labels\n",
    "plt.plot(x1n, y2n, 'b.', ms=10)\n",
    "for i in range(length):\n",
    "    plt.text(x1n[i]*1.3, y2n[i]*(0.99), labelsn[i], fontsize=8, fontweight='normal', va='center', ha='left')\n",
    "\n",
    "# plot p1-limit\n",
    "xx = np.linspace(1e9, 1e22, 200);\n",
    "plt.plot(xx, xx * 1/(2 * np.pi * 0.014 * xx/(1.76*1e17)), 'r-', lw=1.5)\n",
    "\n",
    "# set single spin resolvability limit\n",
    "\n",
    "plt.plot([1e13,1e13], [1e10, 1e19],'k--', lw=1.5)\n",
    "\n",
    "# plot Ishikawa\n",
    "plt.errorbar(5e10, 5.00e10 * 18.5, yerr=14 * 5.00e10, fmt='o', color='b', lw=1.5)\n",
    "# plt.text(5e10, 1.05, 18.5)\n",
    "# set plot labels\n",
    "\n",
    "plt.xlabel('NV Spin Density ($cm^{-3}$)')\n",
    "plt.ylabel(r'FOM (a.u.)')\n",
    "\n",
    "plt.xscale('log')\n",
    "plt.yscale('log')\n",
    "\n",
    "plt.xlim(1e10, 1e19)\n",
    "plt.ylim([1e11, 1e19])\n",
    "\n",
    "plt.savefig(\"fig2.pdf\")\n",
    "\n",
    "plt.show()\n",
    "\n",
    "### Compare T2* and FOM2 versus Interrogated Spin"
   ]
  },
  {
   "cell_type": "markdown",
   "metadata": {},
   "source": [
    "### T2* versus N density"
   ]
  },
  {
   "cell_type": "code",
   "execution_count": 6,
   "metadata": {
    "collapsed": false
   },
   "outputs": [
    {
     "name": "stderr",
     "output_type": "stream",
     "text": [
      "/home/user/.miniconda2/envs/py34/lib/python3.4/site-packages/ipykernel/__main__.py:6: VisibleDeprecationWarning: boolean index did not match indexed array along dimension 0; dimension is 18 but corresponding boolean dimension is 9\n",
      "/home/user/.miniconda2/envs/py34/lib/python3.4/site-packages/ipykernel/__main__.py:7: VisibleDeprecationWarning: boolean index did not match indexed array along dimension 0; dimension is 18 but corresponding boolean dimension is 9\n",
      "/home/user/.miniconda2/envs/py34/lib/python3.4/site-packages/ipykernel/__main__.py:9: VisibleDeprecationWarning: boolean index did not match indexed array along dimension 0; dimension is 18 but corresponding boolean dimension is 9\n"
     ]
    },
    {
     "data": {
      "image/png": "[encoded data removed]",
      "text/plain": [
       "<matplotlib.figure.Figure at 0x7f6c61189860>"
      ]
     },
     "metadata": {},
     "output_type": "display_data"
    }
   ],
   "source": [
    "# pick non-nan values\n",
    "ind = (~np.isnan(y1)) * (~np.isnan(x3)) \n",
    "# select only NV center values - first ten \n",
    "ind = ind[:9]\n",
    "\n",
    "x3n = x3[ind]\n",
    "y1n = y1[ind]\n",
    "length = len(x3n)\n",
    "labelsn = np.array(labels)[ind]\n",
    "\n",
    "# plot p1-limit\n",
    "xx = np.linspace(1e11, 1e22, 200);\n",
    "plt.plot(xx, 1/(2 * np.pi * 0.014 * xx/(1.76*1e17)), 'r-', lw=1.5)\n",
    "\n",
    "# plot data + labels\n",
    "plt.plot(x3n, y1n, 'b.', ms=10)\n",
    "for i in range(length):\n",
    "    plt.text(x3n[i]*1.3, y1n[i]*(0.99), labelsn[i], fontsize=8, fontweight='normal', va='center', ha='left')\n",
    "\n",
    "# set single spin resolvability limit\n",
    "\n",
    "# plt.plot([1e13,1e13], [1e-3,1e3],'k--', lw=1.5)\n",
    "\n",
    "# plot Ishikawa\n",
    "plt.errorbar(7e15, 18.5, yerr=[14], fmt='o', color='b', lw=1.5)\n",
    "\n",
    "# set plot labels\n",
    "\n",
    "plt.xlabel('N Spin Density ($cm^{-3}$)')\n",
    "plt.ylabel(r'NV Ensemble $T_2^* (\\mu$s)')\n",
    "\n",
    "plt.xscale('log')\n",
    "plt.yscale('log')\n",
    "\n",
    "# plt.xlim(10**15, 10**20)\n",
    "ax = plt.gca()\n",
    "ax.set_xlim([1e10,1e20])\n",
    "\n",
    "plt.ylim([10**-2, 100])\n",
    "\n",
    "plt.savefig(\"fig3.pdf\")\n",
    "\n",
    "plt.show()\n",
    "\n",
    "### Compare T2* and FOM2 versus Interrogated Spin"
   ]
  },
  {
   "cell_type": "markdown",
   "metadata": {},
   "source": [
    "### FOM $\\equiv T_2* \\times$ NV spin density vs. N spin density"
   ]
  },
  {
   "cell_type": "code",
   "execution_count": 7,
   "metadata": {
    "collapsed": false
   },
   "outputs": [
    {
     "data": {
      "text/plain": [
       "array([  8.80000000e+15,   1.30000000e+17,   1.80000000e+18,\n",
       "         4.80000000e+18,   1.10000000e+17,   7.00000000e+15,\n",
       "                    nan,   1.80000000e+19,   1.80000000e+19,\n",
       "                    nan,              nan,              nan,\n",
       "                    nan,              nan,              nan,\n",
       "                    nan,              nan,              nan])"
      ]
     },
     "execution_count": 7,
     "metadata": {},
     "output_type": "execute_result"
    }
   ],
   "source": [
    "x3"
   ]
  },
  {
   "cell_type": "code",
   "execution_count": 8,
   "metadata": {
    "collapsed": false
   },
   "outputs": [
    {
     "name": "stderr",
     "output_type": "stream",
     "text": [
      "/home/user/.miniconda2/envs/py34/lib/python3.4/site-packages/ipykernel/__main__.py:1: VisibleDeprecationWarning: boolean index did not match indexed array along dimension 0; dimension is 18 but corresponding boolean dimension is 9\n",
      "  if __name__ == '__main__':\n"
     ]
    },
    {
     "data": {
      "text/plain": [
       "array(['Bauch2017', 'Bauch2017', 'Bauch2017', 'Barry2016', 'Grezes2015',\n",
       "       'Ishikawa2012', 'Acosta2010', 'Acosta2009'], \n",
       "      dtype='<U12')"
      ]
     },
     "execution_count": 8,
     "metadata": {},
     "output_type": "execute_result"
    }
   ],
   "source": [
    "np.array(labels)[ind]"
   ]
  },
  {
   "cell_type": "code",
   "execution_count": 9,
   "metadata": {
    "collapsed": false
   },
   "outputs": [
    {
     "name": "stderr",
     "output_type": "stream",
     "text": [
      "/home/user/.miniconda2/envs/py34/lib/python3.4/site-packages/ipykernel/__main__.py:6: VisibleDeprecationWarning: boolean index did not match indexed array along dimension 0; dimension is 18 but corresponding boolean dimension is 9\n",
      "/home/user/.miniconda2/envs/py34/lib/python3.4/site-packages/ipykernel/__main__.py:7: VisibleDeprecationWarning: boolean index did not match indexed array along dimension 0; dimension is 18 but corresponding boolean dimension is 9\n",
      "/home/user/.miniconda2/envs/py34/lib/python3.4/site-packages/ipykernel/__main__.py:10: VisibleDeprecationWarning: boolean index did not match indexed array along dimension 0; dimension is 18 but corresponding boolean dimension is 9\n"
     ]
    },
    {
     "data": {
      "image/png": "[encoded data removed]",
      "text/plain": [
       "<matplotlib.figure.Figure at 0x7f6c610a36d8>"
      ]
     },
     "metadata": {},
     "output_type": "display_data"
    }
   ],
   "source": [
    "# pick non-nan values\n",
    "ind = (~np.isnan(y2)) * (~np.isnan(x3)) \n",
    "# select only NV center values - first ten \n",
    "ind = ind[:9]\n",
    "\n",
    "x3n = x3[ind]\n",
    "y2n = y2[ind]\n",
    "\n",
    "length = len(x3n)\n",
    "labelsn = np.array(labels)[ind]\n",
    "\n",
    "# plot data + labels\n",
    "plt.plot(x3n, y2n, 'b.', ms=10)\n",
    "for i in range(length):\n",
    "    plt.text(x3n[i]*1.3, y2n[i]*(0.99), labelsn[i], fontsize=8, fontweight='normal', va='center', ha='left')\n",
    "\n",
    "# plot p1-limit\n",
    "xx = np.linspace(1e9, 1e22, 200);\n",
    "plt.plot(xx, xx * 1/(2 * np.pi * 0.014 * xx/(1.76*1e17)), 'r-', lw=1.5)\n",
    "\n",
    "# set single spin resolvability limit\n",
    "\n",
    "plt.plot([1e13,1e13], [1e10, 1e19],'k--', lw=1.5)\n",
    "\n",
    "# plot Ishikawa \n",
    "plt.errorbar(7e15, 5.00e10 * 18.5, yerr=14 * 5.00e10, fmt='o', color='b', lw=1.5)\n",
    "# plt.text(5e10, 1.05, 18.5)\n",
    "# set plot labels\n",
    "\n",
    "plt.xlabel('N Spin Density ($cm^{-3}$)')\n",
    "plt.ylabel(r'FOM (a.u.)')\n",
    "\n",
    "plt.xscale('log')\n",
    "plt.yscale('log')\n",
    "\n",
    "plt.xlim(1e15, 1e21)\n",
    "plt.ylim([1e11, 1e19])\n",
    "\n",
    "plt.savefig(\"fig4.pdf\")\n",
    "\n",
    "plt.show()\n",
    "\n",
    "### Compare T2* and FOM2 versus Interrogated Spin"
   ]
  },
  {
   "cell_type": "markdown",
   "metadata": {},
   "source": [
    "### T2* versus spin density (all spin species)"
   ]
  },
  {
   "cell_type": "code",
   "execution_count": 831,
   "metadata": {
    "collapsed": false
   },
   "outputs": [],
   "source": [
    "# define spin species as given in file\n",
    "species_label = ['NV-', 'N', 'SiV0', 'P', 'PL5', 'PL6', 'PL?', 'Cr', 'Mn']\n",
    "# species_label = species_label[:1]\n",
    "\n",
    "# define legend labels\n",
    "legend_label = ['NV$^-$:Diamond', 'N:Diamond', 'SiV$^0$:Diamond', 'P:Si', 'PL5:SiC', 'PL6:SiC', 'PL:SiC', 'Cr:SiC', 'Mn:ZnO']\n",
    "\n",
    "# define markers and color\n",
    "markers = ['bo', 'k*', 'r^', 'gs', '+m', 'Dc', 'py', 'bp', 'kr^']"
   ]
  },
  {
   "cell_type": "code",
   "execution_count": 832,
   "metadata": {
    "collapsed": false,
    "scrolled": true
   },
   "outputs": [
    {
     "data": {
      "image/png": "[encoded data removed]",
      "text/plain": [
       "<matplotlib.figure.Figure at 0xc179b38>"
      ]
     },
     "metadata": {},
     "output_type": "display_data"
    }
   ],
   "source": [
    "# interate over all spin types\n",
    "s=0 # current run\n",
    "for species in species_label: \n",
    "    species_df = df.loc[df['Defect']==species]\n",
    "    \n",
    "    # spin density in cm^-3\n",
    "    x = pd.to_numeric(species_df.iloc[:,2], 'coerce').get_values()\n",
    "    # T2*\n",
    "    y = pd.to_numeric(species_df.iloc[:,5], 'coerce').get_values()\n",
    "    \n",
    "    # some of the entries are nan, remove these\n",
    "    ind = (~np.isnan(y)) * (~np.isnan(x)) \n",
    "    x = x[ind];y = y[ind];\n",
    "#     print(s, species)\n",
    "#     print(len(x))\n",
    "#     print(len(y))    \n",
    "#     print('is not empty', (len(x)!=0) & (len(y)!=0))\n",
    "    \n",
    "    # only plot if x and y are not empty\n",
    "    if (len(x)!=0) & (len(y)!=0):\n",
    "        # reference label\n",
    "        ref_label = species_df.iloc[ind,10].get_values()\n",
    "\n",
    "        # plot data and labels\n",
    "        plt.plot(x, y, markers[s], ms=6, markeredgecolor = 'none', label=legend_label[s])\n",
    "        for i in range(len(x)):\n",
    "            plt.text(x[i]*0.7, y[i]*(0.99), ref_label[i], fontsize=8, fontweight='normal', va='center', ha='right')  \n",
    "    s=s+1  \n",
    "# plot Ishikawa\n",
    "plt.errorbar(5e10, 18.5, yerr=14, fmt='o', color='b', lw=1.5)\n",
    "\n",
    "# dipolar-limit\n",
    "xx = np.linspace(1e11, 1e22, 200);\n",
    "plt.plot(xx, 1/(2 * np.pi * 0.011 * xx/(1.76*1e17)), 'r-', lw=1.5)\n",
    "\n",
    "# set single spin resolvability limit\n",
    "plt.plot([1e13,1e13], [1e-3,1e3],'k--', lw=1.5)\n",
    "\n",
    "# set plot labels\n",
    "plt.xlabel('Spin Density ($cm^{-3}$)')\n",
    "plt.ylabel(r'Ensemble $T_2^* (\\mu$s)')\n",
    "\n",
    "# plot legend\n",
    "plt.legend(frameon=False, loc=3, fontsize=8)\n",
    "\n",
    "plt.xscale('log')\n",
    "plt.yscale('log')\n",
    "\n",
    "# plt.xlim(10**15, 10**20)\n",
    "ax = plt.gca()\n",
    "ax.set_xlim([1e10,1e20])\n",
    "\n",
    "plt.ylim([10**-2, 100])\n",
    "\n",
    "plt.savefig(\"fig7.pdf\")\n",
    "\n",
    "plt.show()"
   ]
  },
  {
   "cell_type": "code",
   "execution_count": 845,
   "metadata": {
    "collapsed": false
   },
   "outputs": [
    {
     "data": {
      "image/png": "[encoded data removed]",
      "text/plain": [
       "<matplotlib.figure.Figure at 0xc1546a0>"
      ]
     },
     "metadata": {},
     "output_type": "display_data"
    }
   ],
   "source": [
    "# interate over all spin types\n",
    "s=0 # current run\n",
    "for species in species_label: \n",
    "    species_df = df.loc[df['Defect']==species]\n",
    "    \n",
    "    # spin density in cm^-3\n",
    "    x = pd.to_numeric(species_df.iloc[:,2], 'coerce').get_values()\n",
    "    # T2*\n",
    "    y = pd.to_numeric(species_df.iloc[:,7], 'coerce').get_values()\n",
    "        \n",
    "    # some of the entries are nan, remove these\n",
    "    ind = (~np.isnan(y)) * (~np.isnan(x)) \n",
    "    x = x[ind];y = y[ind];\n",
    "#     print(s, species)\n",
    "#     print(len(x))\n",
    "#     print(len(y))    \n",
    "#     print('is not empty', (len(x)!=0) & (len(y)!=0))\n",
    "    \n",
    "    # only plot if x and y are not empty\n",
    "    if (len(x)!=0) & (len(y)!=0):\n",
    "        # reference label\n",
    "        ref_label = species_df.iloc[ind,10].get_values()\n",
    "\n",
    "        # plot data and labels\n",
    "        plt.plot(x, y, markers[s], ms=6, markeredgecolor = 'none', label=legend_label[s])\n",
    "        for i in range(len(x)):\n",
    "            plt.text(x[i]*0.7, y[i]*(0.99), ref_label[i], fontsize=8, fontweight='normal', va='center', ha='right')  \n",
    "    s=s+1  \n",
    "# plot Ishikawa\n",
    "plt.errorbar(5e10, 18.5, yerr=14, fmt='o', color='b', lw=1.5)\n",
    "\n",
    "# dipolar-limit\n",
    "xx = np.linspace(1e8, 1e22, 200);\n",
    "plt.plot(xx, xx * 1/(2 * np.pi * 0.011 * xx/(1.76*1e17)), 'r-', lw=1.5)\n",
    "\n",
    "# set single spin resolvability limit\n",
    "plt.plot([1e13,1e13], [1e10, 1e19],'k--', lw=1.5)\n",
    "\n",
    "# set plot labels\n",
    "plt.xlabel('Spin Density ($cm^{-3}$)')\n",
    "plt.ylabel(r'FOM')\n",
    "\n",
    "# plot legend\n",
    "plt.legend(frameon=False, loc=[0.01,0.6], fontsize=8)\n",
    "\n",
    "plt.xscale('log')\n",
    "plt.yscale('log')\n",
    "\n",
    "plt.xlim(1e10, 1e20)\n",
    "plt.ylim([1e11, 1e19])\n",
    "\n",
    "# # plt.xlim(10**15, 10**20)\n",
    "# ax = plt.gca()\n",
    "# ax.set_xlim([1e10,1e20])\n",
    "\n",
    "# # plt.ylim([10**-2, 100])\n",
    "\n",
    "plt.savefig(\"fig8.pdf\")\n",
    "\n",
    "plt.show()"
   ]
  },
  {
   "cell_type": "markdown",
   "metadata": {},
   "source": [
    "# references + spin concentrations where available"
   ]
  },
  {
   "cell_type": "code",
   "execution_count": 412,
   "metadata": {
    "collapsed": true
   },
   "outputs": [],
   "source": [
    "um3 = 10**-12 # qubic micron in qubic cm"
   ]
  },
  {
   "cell_type": "markdown",
   "metadata": {},
   "source": [
    "Abe, E., Tyryshkin, A. M., Tojo, S., Morton, J. J. L., Witzel, W. M., Fujimoto, A., … Itoh, K. M. (2010). Electron spin coherence of phosphorus donors in silicon: Effect of environmental nuclei. Physical Review B - Condensed Matter and Materials Physics, 82(12), 9–12. "
   ]
  },
  {
   "cell_type": "markdown",
   "metadata": {},
   "source": [
    "Acosta, V. M., Bauch, E., Jarmola, A., Zipp, L. J., Ledbetter, M. P., & Budker, D. (2010). Broadband magnetometry by infrared-absorption detection of nitrogen-vacancy ensembles in diamond. Applied Physics Letters, 97(17). http://doi.org/10.1063/1.3507884"
   ]
  },
  {
   "cell_type": "code",
   "execution_count": 245,
   "metadata": {
    "collapsed": false
   },
   "outputs": [
    {
     "data": {
      "text/plain": [
       "'5.250000e+11'"
      ]
     },
     "execution_count": 245,
     "metadata": {},
     "output_type": "execute_result"
    }
   ],
   "source": [
    "detectionVol = 50 * 50 * 300 * um3\n",
    "concentration = 7e17 # cm^-3\n",
    "'%e' %  (detectionVol * concentration)"
   ]
  },
  {
   "cell_type": "markdown",
   "metadata": {},
   "source": [
    "Acosta, V. M., Bauch, E., Ledbetter, M. P., Santori, C., Fu, K. M. C., Barclay, P. E., … Budker, D. (2009). Diamonds with a high density of nitrogen-vacancy centers for magnetometry applications. Physical Review B - Condensed Matter and Materials Physics, 80(11), 1–15. https://doi.org/10.1103/PhysRevB.80.115202"
   ]
  },
  {
   "cell_type": "code",
   "execution_count": 246,
   "metadata": {
    "collapsed": false
   },
   "outputs": [
    {
     "data": {
      "text/plain": [
       "'2.100000e+08'"
      ]
     },
     "execution_count": 246,
     "metadata": {},
     "output_type": "execute_result"
    }
   ],
   "source": [
    "detectionVol = 0.5 * 0.5 * 300 * um3\n",
    "concentration = 2.8e18 # cm^-3\n",
    "'%e' %  (detectionVol * concentration)"
   ]
  },
  {
   "cell_type": "markdown",
   "metadata": {},
   "source": [
    "Angerer, A., Perroy, R., & Careas, S. (2015). Subnanotesla quantum-interference magnetometry with a single spin in diamond. https://arxiv.org/abs/1509.01637"
   ]
  },
  {
   "cell_type": "markdown",
   "metadata": {},
   "source": [
    "Christle, D., Falk, A., & Andrich, P. (2014). Isolated electron spins in silicon carbide with millisecond-coherence times. Nature Materials, 14(February), 160–163. https://doi.org/10.1038/NMAT4144\n",
    "\n",
    "Becker, J. N., Görlitz, J., Arend, C., Markham, M., & Becher, C. (2016). Ultrafast, all-optical coherent control of single silicon vacancy colour centres in diamond, 2, 1–6. http://doi.org/10.1038/ncomms13512\n",
    "\n",
    "Maurer, P. C., Kucsko, G., Latta, C., Jiang, L., Yao, N. Y., Bennett, S. D., … Lukin, M. D. (2012). Room-Temperature Quantum Bit Memory Exceeding One Second. Science, 336(6086), 1283–1286. https://doi.org/10.1126/science.1220513\n",
    "    \n",
    "\n",
    "\n",
    "Klimov, P. V, Falk, A. L., Christle, D. J., Dobrovitski, V. V, & Awschalom, D. D. (2015). Quantum entanglement at ambient conditions in a macroscopic solid-state spin ensemble. Sci. Adv., 1(1), 1–8. http://doi.org/10.1126/sciadv.1501015\n",
    "\n",
    "Koehl, W. F., Buckley, B. B., Heremans, F. J., Calusine, G., & Awschalom, D. D. (2011). Room temperature coherent control of defect spin qubits in silicon carbide. Nature, 479(7371), 84–87. http://doi.org/10.1038/nature10562\n",
    "\n"
   ]
  },
  {
   "cell_type": "markdown",
   "metadata": {},
   "source": [
    "Kubo, Y., Grezes, C., Dewes, A., Umeda, T., Isoya, J., Sumiya, H., … Bertet, P. (2011). Hybrid quantum circuit with a superconducting qubit coupled to a spin ensemble. Physical Review Letters, 107(22). http://doi.org/10.1103/PhysRevLett.107.220501"
   ]
  },
  {
   "cell_type": "code",
   "execution_count": 247,
   "metadata": {
    "collapsed": false
   },
   "outputs": [
    {
     "data": {
      "text/plain": [
       "2.8e+18"
      ]
     },
     "execution_count": 247,
     "metadata": {},
     "output_type": "execute_result"
    }
   ],
   "source": [
    "detectionVol = 40 * um3\n",
    "spins = 10**3\n",
    "concentraton = '%e' %  (spins * detectionVol)\n",
    "concentration"
   ]
  },
  {
   "cell_type": "markdown",
   "metadata": {},
   "source": [
    "Zhou, Y., Wang, J., Zhang, X., Li, K., Cai, J., & Gao, W. (2017). Self-protected nanoscale thermometry based on spin defects in silicon carbide, (4), 1–7. Retrieved from http://arxiv.org/abs/1704.03301"
   ]
  },
  {
   "cell_type": "code",
   "execution_count": null,
   "metadata": {
    "collapsed": true
   },
   "outputs": [],
   "source": []
  }
 ],
 "metadata": {
  "kernelspec": {
   "display_name": "Python [py34]",
   "language": "python",
   "name": "Python [py34]"
  },
  "language_info": {
   "codemirror_mode": {
    "name": "ipython",
    "version": 3
   },
   "file_extension": ".py",
   "mimetype": "text/x-python",
   "name": "python",
   "nbconvert_exporter": "python",
   "pygments_lexer": "ipython3",
   "version": "3.4.5"
  }
 },
 "nbformat": 4,
 "nbformat_minor": 0
}
