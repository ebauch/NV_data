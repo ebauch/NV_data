{
 "cells": [
  {
   "cell_type": "markdown",
   "metadata": {},
   "source": [
    "### import data"
   ]
  },
  {
   "cell_type": "code",
   "execution_count": 402,
   "metadata": {
    "collapsed": false,
    "scrolled": true
   },
   "outputs": [
    {
     "data": {
      "text/html": [
       "<div>\n",
       "<table border=\"1\" class=\"dataframe\">\n",
       "  <thead>\n",
       "    <tr style=\"text-align: right;\">\n",
       "      <th></th>\n",
       "      <th>Defect</th>\n",
       "      <th>Host</th>\n",
       "      <th>Concentration (cm^-3)</th>\n",
       "      <th>Interrogated Spins</th>\n",
       "      <th>T2* (us)</th>\n",
       "      <th>FOM (us)</th>\n",
       "      <th>Bath</th>\n",
       "      <th>Reference</th>\n",
       "      <th>Comment</th>\n",
       "      <th>Where to Find</th>\n",
       "    </tr>\n",
       "  </thead>\n",
       "  <tbody>\n",
       "    <tr>\n",
       "      <th>0</th>\n",
       "      <td>NV-</td>\n",
       "      <td>Diamond</td>\n",
       "      <td>2.5E+12</td>\n",
       "      <td>2.5E+04</td>\n",
       "      <td>68</td>\n",
       "      <td>1.70E+06</td>\n",
       "      <td>0.05 ppm N, 0.01% 13C</td>\n",
       "      <td>Bauch 2017</td>\n",
       "      <td>double quantum</td>\n",
       "      <td>NaN</td>\n",
       "    </tr>\n",
       "    <tr>\n",
       "      <th>1</th>\n",
       "      <td>NV-</td>\n",
       "      <td>Diamond</td>\n",
       "      <td>1E+15</td>\n",
       "      <td>1.0E+07</td>\n",
       "      <td>58</td>\n",
       "      <td>5.80E+08</td>\n",
       "      <td>0.75 ppm N, 0.01% 13C</td>\n",
       "      <td>Bauch 2017</td>\n",
       "      <td>double quantum + spin bath driving</td>\n",
       "      <td>NaN</td>\n",
       "    </tr>\n",
       "    <tr>\n",
       "      <th>2</th>\n",
       "      <td>NV-</td>\n",
       "      <td>Diamond</td>\n",
       "      <td>1E+16</td>\n",
       "      <td>1.0E+07</td>\n",
       "      <td>5</td>\n",
       "      <td>5.00E+07</td>\n",
       "      <td>10 ppm N, 0.05% 13C</td>\n",
       "      <td>Bauch 2017</td>\n",
       "      <td>double quantum + spin bath driving</td>\n",
       "      <td>NaN</td>\n",
       "    </tr>\n",
       "    <tr>\n",
       "      <th>3</th>\n",
       "      <td>NV</td>\n",
       "      <td>Diamond</td>\n",
       "      <td>7E+17</td>\n",
       "      <td>5.3E+11</td>\n",
       "      <td>0.15</td>\n",
       "      <td>7.88E+10</td>\n",
       "      <td>&lt; 100 ppm N, 1.1 13C%</td>\n",
       "      <td>Acosta 2010</td>\n",
       "      <td>NaN</td>\n",
       "      <td>3rd paragraph</td>\n",
       "    </tr>\n",
       "    <tr>\n",
       "      <th>4</th>\n",
       "      <td>NV</td>\n",
       "      <td>Diamond</td>\n",
       "      <td>2.8E+18</td>\n",
       "      <td>2.2E+08</td>\n",
       "      <td>0.1</td>\n",
       "      <td>2.18E+07</td>\n",
       "      <td>&lt; 100 ppm N, 1.1 13C%</td>\n",
       "      <td>Acosta 2009</td>\n",
       "      <td>NaN</td>\n",
       "      <td>abstract</td>\n",
       "    </tr>\n",
       "    <tr>\n",
       "      <th>5</th>\n",
       "      <td>SiV0</td>\n",
       "      <td>Diamond</td>\n",
       "      <td>ensemble</td>\n",
       "      <td>n/a</td>\n",
       "      <td>ask Natalie</td>\n",
       "      <td>n/a</td>\n",
       "      <td>1.1% 13C</td>\n",
       "      <td>Rose 2017</td>\n",
       "      <td>cryogenic temperatures</td>\n",
       "      <td>NaN</td>\n",
       "    </tr>\n",
       "    <tr>\n",
       "      <th>6</th>\n",
       "      <td>P</td>\n",
       "      <td>Silicon</td>\n",
       "      <td>1.00E+15</td>\n",
       "      <td>1.0E+15</td>\n",
       "      <td>1.8</td>\n",
       "      <td>1.80E+15</td>\n",
       "      <td>0.08% 29Si</td>\n",
       "      <td>Abe 2010</td>\n",
       "      <td>cryogenic temperatures, EPR</td>\n",
       "      <td>NaN</td>\n",
       "    </tr>\n",
       "    <tr>\n",
       "      <th>7</th>\n",
       "      <td>PL5</td>\n",
       "      <td>Silicon Carbide</td>\n",
       "      <td>ensemble</td>\n",
       "      <td>n/a</td>\n",
       "      <td>2</td>\n",
       "      <td>n/a</td>\n",
       "      <td>4.7% 29Si, 1.1% 13C</td>\n",
       "      <td>Zhou 2017</td>\n",
       "      <td>worked in strain basis to protect against magn...</td>\n",
       "      <td>NaN</td>\n",
       "    </tr>\n",
       "    <tr>\n",
       "      <th>8</th>\n",
       "      <td>PL6</td>\n",
       "      <td>Silicon Carbide</td>\n",
       "      <td>2.8E+18</td>\n",
       "      <td>1.0E+03</td>\n",
       "      <td>0.3</td>\n",
       "      <td>3.00E+02</td>\n",
       "      <td>4.7% 29Si, 1.1% 13C (likely)</td>\n",
       "      <td>Klimov 2015</td>\n",
       "      <td>NaN</td>\n",
       "      <td>supplement S4</td>\n",
       "    </tr>\n",
       "    <tr>\n",
       "      <th>9</th>\n",
       "      <td>PL?</td>\n",
       "      <td>Silicon Carbide</td>\n",
       "      <td>ensemble</td>\n",
       "      <td>n/a</td>\n",
       "      <td>1.44</td>\n",
       "      <td>NaN</td>\n",
       "      <td>4.7% 29Si, 1.1% 13C (likely)</td>\n",
       "      <td>Koehl 2011</td>\n",
       "      <td>cryogenic temperatures</td>\n",
       "      <td>Fig. 2b, 3c</td>\n",
       "    </tr>\n",
       "  </tbody>\n",
       "</table>\n",
       "</div>"
      ],
      "text/plain": [
       "  Defect              Host Concentration (cm^-3) Interrogated Spins  \\\n",
       "0    NV-           Diamond               2.5E+12            2.5E+04   \n",
       "1     NV-          Diamond                 1E+15            1.0E+07   \n",
       "2     NV-          Diamond                 1E+16            1.0E+07   \n",
       "3      NV          Diamond                 7E+17            5.3E+11   \n",
       "4      NV          Diamond               2.8E+18            2.2E+08   \n",
       "5    SiV0          Diamond              ensemble                n/a   \n",
       "6       P          Silicon              1.00E+15            1.0E+15   \n",
       "7     PL5  Silicon Carbide              ensemble                n/a   \n",
       "8     PL6  Silicon Carbide               2.8E+18            1.0E+03   \n",
       "9     PL?  Silicon Carbide              ensemble                n/a   \n",
       "\n",
       "      T2* (us)  FOM (us)                          Bath    Reference  \\\n",
       "0           68  1.70E+06         0.05 ppm N, 0.01% 13C   Bauch 2017   \n",
       "1           58  5.80E+08         0.75 ppm N, 0.01% 13C   Bauch 2017   \n",
       "2            5  5.00E+07           10 ppm N, 0.05% 13C   Bauch 2017   \n",
       "3         0.15  7.88E+10         < 100 ppm N, 1.1 13C%  Acosta 2010   \n",
       "4          0.1  2.18E+07         < 100 ppm N, 1.1 13C%  Acosta 2009   \n",
       "5  ask Natalie       n/a                      1.1% 13C    Rose 2017   \n",
       "6          1.8  1.80E+15                    0.08% 29Si     Abe 2010   \n",
       "7            2       n/a           4.7% 29Si, 1.1% 13C    Zhou 2017   \n",
       "8          0.3  3.00E+02  4.7% 29Si, 1.1% 13C (likely)  Klimov 2015   \n",
       "9         1.44       NaN  4.7% 29Si, 1.1% 13C (likely)   Koehl 2011   \n",
       "\n",
       "                                             Comment  Where to Find  \n",
       "0                                     double quantum            NaN  \n",
       "1                 double quantum + spin bath driving            NaN  \n",
       "2                 double quantum + spin bath driving            NaN  \n",
       "3                                                NaN  3rd paragraph  \n",
       "4                                                NaN       abstract  \n",
       "5                             cryogenic temperatures            NaN  \n",
       "6                        cryogenic temperatures, EPR            NaN  \n",
       "7  worked in strain basis to protect against magn...            NaN  \n",
       "8                                                NaN  supplement S4  \n",
       "9                             cryogenic temperatures    Fig. 2b, 3c  "
      ]
     },
     "execution_count": 402,
     "metadata": {},
     "output_type": "execute_result"
    }
   ],
   "source": [
    "import pandas as pd\n",
    "import urllib.request\n",
    "\n",
    "# # load data from github\n",
    "# data_url = 'https://raw.githubusercontent.com/ebauch/NV_data/master/T2star_survey.csv'\n",
    "# data = urllib.request.urlopen(data_url)\n",
    "# pd.read_csv(data, encoding='latin1', header=0)\n",
    "# df\n",
    "\n",
    "# if data is saved locally as csv uncomment lines below\n",
    "file = 'T2star_survey.csv'\n",
    "df = pd.read_csv(file, encoding='latin1', header=0)\n",
    "df"
   ]
  },
  {
   "cell_type": "markdown",
   "metadata": {},
   "source": [
    "### generate plots"
   ]
  },
  {
   "cell_type": "code",
   "execution_count": 403,
   "metadata": {
    "collapsed": false
   },
   "outputs": [],
   "source": [
    "# number of interrogated spins\n",
    "x = pd.to_numeric(df.iloc[:,3], 'coerce').get_values()\n",
    "# T2* in us\n",
    "y1 = pd.to_numeric(df.iloc[:,4], 'coerce').get_values()\n",
    "# FOM\n",
    "y2 = pd.to_numeric(df.iloc[:,5], 'coerce').get_values()\n",
    "# reference + remove spaces\n",
    "labels = df.iloc[:,7]\n",
    "labels = [label.replace(\" \",\"\") for label in labels]"
   ]
  },
  {
   "cell_type": "code",
   "execution_count": 404,
   "metadata": {
    "collapsed": false
   },
   "outputs": [
    {
     "data": {
      "image/png": "[encoded data removed]",
      "text/plain": [
       "<matplotlib.figure.Figure at 0xd762780>"
      ]
     },
     "metadata": {},
     "output_type": "display_data"
    }
   ],
   "source": [
    "## generate T2* plot\n",
    "\n",
    "pick = [0, 1, 2, 3, 4, 6, 8] # pick good data points\n",
    "\n",
    "# plot data + labels\n",
    "plt.plot(x[pick], y1[pick], 'b.', ms=10)\n",
    "for i in pick:\n",
    "    plt.text(x[i]*2, y1[i]*(0.99), labels[i], fontsize=8, fontweight='normal', va='center', ha='left')\n",
    "\n",
    "# set plot labels\n",
    "\n",
    "plt.xlabel('Interrogated Spins')\n",
    "plt.ylabel(r'$T_2^* (\\mu$s)')\n",
    "\n",
    "plt.xscale('log')\n",
    "plt.yscale('log')\n",
    "\n",
    "plt.xlim([10**0, 10**18])\n",
    "plt.ylim([10**-2, 100])\n",
    "\n",
    "plt.savefig(\"fig.pdf\")\n",
    "\n",
    "plt.show()"
   ]
  },
  {
   "cell_type": "code",
   "execution_count": 406,
   "metadata": {
    "collapsed": false
   },
   "outputs": [
    {
     "data": {
      "image/png": "[encoded data removed]",
      "text/plain": [
       "<matplotlib.figure.Figure at 0xe867860>"
      ]
     },
     "metadata": {},
     "output_type": "display_data"
    }
   ],
   "source": [
    "# generate FOM plot\n",
    "\n",
    "# plot data + labels\n",
    "plt.plot(x[pick], y2[pick], 'b.', ms=10)\n",
    "for i in pick:\n",
    "    plt.text(x[i]*2, y2[i] * 0.9, labels[i], fontsize=8, fontweight='normal', va='center', ha='left')\n",
    "\n",
    "# set plot labels\n",
    "plt.xlabel('Interrogated Spins')\n",
    "plt.ylabel(r'FOM')\n",
    "\n",
    "plt.xscale('log')\n",
    "plt.yscale('log')\n",
    "\n",
    "plt.xlim([10**0, 10**18])\n",
    "plt.ylim([10**-1, 10**16])\n",
    "\n",
    "plt.savefig(\"fig2.pdf\")\n",
    "\n",
    "plt.show()"
   ]
  },
  {
   "cell_type": "markdown",
   "metadata": {},
   "source": [
    "# extracted spin concentrations (where available)"
   ]
  },
  {
   "cell_type": "code",
   "execution_count": 243,
   "metadata": {
    "collapsed": true
   },
   "outputs": [],
   "source": [
    "um3 = 10**-12 # qubic micron in qubic cm"
   ]
  },
  {
   "cell_type": "markdown",
   "metadata": {},
   "source": [
    "Acosta, V. M., Bauch, E., Jarmola, A., Zipp, L. J., Ledbetter, M. P., & Budker, D. (2010). Broadband magnetometry by infrared-absorption detection of nitrogen-vacancy ensembles in diamond. Applied Physics Letters, 97(17). http://doi.org/10.1063/1.3507884"
   ]
  },
  {
   "cell_type": "code",
   "execution_count": 245,
   "metadata": {
    "collapsed": false
   },
   "outputs": [
    {
     "data": {
      "text/plain": [
       "'5.250000e+11'"
      ]
     },
     "execution_count": 245,
     "metadata": {},
     "output_type": "execute_result"
    }
   ],
   "source": [
    "detectionVol = 50 * 50 * 300 * um3\n",
    "concentration = 7e17 # cm^-3\n",
    "'%e' %  (detectionVol * concentration)"
   ]
  },
  {
   "cell_type": "markdown",
   "metadata": {},
   "source": [
    "Acosta, V. M., Bauch, E., Ledbetter, M. P., Santori, C., Fu, K. M. C., Barclay, P. E., … Budker, D. (2009). Diamonds with a high density of nitrogen-vacancy centers for magnetometry applications. Physical Review B - Condensed Matter and Materials Physics, 80(11), 1–15. https://doi.org/10.1103/PhysRevB.80.115202"
   ]
  },
  {
   "cell_type": "code",
   "execution_count": 246,
   "metadata": {
    "collapsed": false
   },
   "outputs": [
    {
     "data": {
      "text/plain": [
       "'2.100000e+08'"
      ]
     },
     "execution_count": 246,
     "metadata": {},
     "output_type": "execute_result"
    }
   ],
   "source": [
    "detectionVol = 0.5 * 0.5 * 300 * um3\n",
    "concentration = 2.8e18 # cm^-3\n",
    "'%e' %  (detectionVol * concentration)"
   ]
  },
  {
   "cell_type": "markdown",
   "metadata": {},
   "source": [
    "Klimov, P. V, Falk, A. L., Christle, D. J., Dobrovitski, V. V, & Awschalom, D. D. (2015). Quantum entanglement at ambient conditions in a macroscopic solid-state spin ensemble. Sci. Adv., 1(1), 1–8. http://doi.org/10.1126/sciadv.1501015\n",
    "\n"
   ]
  },
  {
   "cell_type": "code",
   "execution_count": 247,
   "metadata": {
    "collapsed": false
   },
   "outputs": [
    {
     "data": {
      "text/plain": [
       "2.8e+18"
      ]
     },
     "execution_count": 247,
     "metadata": {},
     "output_type": "execute_result"
    }
   ],
   "source": [
    "detectionVol = 40 * um3\n",
    "spins = 10**3\n",
    "concentraton = '%e' %  (spins * detectionVol)\n",
    "concentration"
   ]
  },
  {
   "cell_type": "code",
   "execution_count": null,
   "metadata": {
    "collapsed": true
   },
   "outputs": [],
   "source": []
  }
 ],
 "metadata": {
  "kernelspec": {
   "display_name": "Python [py34]",
   "language": "python",
   "name": "Python [py34]"
  },
  "language_info": {
   "codemirror_mode": {
    "name": "ipython",
    "version": 3
   },
   "file_extension": ".py",
   "mimetype": "text/x-python",
   "name": "python",
   "nbconvert_exporter": "python",
   "pygments_lexer": "ipython3",
   "version": "3.4.5"
  }
 },
 "nbformat": 4,
 "nbformat_minor": 0
}
